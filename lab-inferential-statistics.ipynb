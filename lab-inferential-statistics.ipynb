{
 "cells": [
  {
   "cell_type": "markdown",
   "id": "42a12b8f",
   "metadata": {},
   "source": [
    "It is assumed that the mean systolic blood pressure is μ = 120 mm Hg. In the Honolulu Heart Study, a sample of n = 100 people had an average systolic blood pressure of 130.1 mm Hg with a standard deviation of 21.21 mm Hg. Is the group significantly different (with respect to systolic blood pressure!) from the regular population?\n",
    "\n",
    "Set up the hypothesis test.\n",
    "Write down all the steps followed for setting up the test.\n",
    "Calculate the test statistic by hand and also code it in Python. It should be 4.76190. We will take a look at how to make decisions based on this calculated value."
   ]
  },
  {
   "cell_type": "markdown",
   "id": "f9a5ce49",
   "metadata": {},
   "source": [
    "Null Hypothesis (H0): The average systolic blood pressure of the sample is equal to the average systolic blood pressure of the population (μ = 120 mm Hg).\n",
    "Alternative Hypothesis (H1): The average systolic blood pressure of the sample is significantly different from the average systolic blood pressure of the population (μ ≠ 120 mm Hg).\n",
    "\n",
    "We will use a two-tailed test because the alternative hypothesis does not specify a direction (greater than or less than).\n",
    "\n",
    "The significance level (α) for this test will be set at 0.05, which is a common choice in hypothesis testing. This means we will reject the null hypothesis if the probability of observing the sample mean, given that the null hypothesis is true, is less than 0.05."
   ]
  },
  {
   "cell_type": "markdown",
   "id": "0ca009cc",
   "metadata": {},
   "source": [
    "Now, let's proceed with the calculations."
   ]
  },
  {
   "cell_type": "code",
   "execution_count": null,
   "id": "2a0d61b5",
   "metadata": {},
   "outputs": [],
   "source": [
    "# 1: collecting the data:\n",
    "sample size n = 100\n",
    "sample mean x = 130.1 mm Hg\n",
    "sample standard deviation s = 21.21 mm Hg\n",
    "population mean μ = 120 mm Hg"
   ]
  },
  {
   "cell_type": "code",
   "execution_count": 2,
   "id": "47b80482",
   "metadata": {},
   "outputs": [
    {
     "name": "stdout",
     "output_type": "stream",
     "text": [
      "Z-score: 4.761904761904759\n"
     ]
    }
   ],
   "source": [
    "# 2:calculating the test statistic Z-score:\n",
    "import numpy as np\n",
    "sample_mean = 130.1\n",
    "pop_mean = 120\n",
    "pop_std = 21.21\n",
    "n = 100\n",
    "\n",
    "Z = (sample_mean - pop_mean) / (pop_std / np.sqrt(n))\n",
    "print(\"Z-score:\", Z)"
   ]
  },
  {
   "cell_type": "markdown",
   "id": "a8b7a913",
   "metadata": {},
   "source": [
    "The calculated Z-score is approximately \n",
    "4.76190. \n",
    "Now, let's compare this with the critical values for a significance level of \n",
    "0.05 in a two-tailed test. If the Z-score falls outside the range \n",
    "(−1.96,1.96), we can reject the null hypothesis"
   ]
  },
  {
   "cell_type": "code",
   "execution_count": 3,
   "id": "468800bb",
   "metadata": {},
   "outputs": [
    {
     "name": "stdout",
     "output_type": "stream",
     "text": [
      "Reject the null hypothesis\n"
     ]
    }
   ],
   "source": [
    "alpha = 0.05\n",
    "value_left = -1.96\n",
    "value_right = 1.96\n",
    "\n",
    "if Z < value_left or Z > value_right:\n",
    "    print(\"Reject the null hypothesis\")\n",
    "else:\n",
    "    print(\"Fail to reject the null hypothesis\")"
   ]
  },
  {
   "cell_type": "markdown",
   "id": "f1e7fafe",
   "metadata": {},
   "source": [
    "The calculated Z-score falls outside the critical value range \n",
    "(−1.96,1.96), indicating that it is statistically significant. Therefore, we reject the null hypothesis."
   ]
  }
 ],
 "metadata": {
  "kernelspec": {
   "display_name": "Python 3 (ipykernel)",
   "language": "python",
   "name": "python3"
  },
  "language_info": {
   "codemirror_mode": {
    "name": "ipython",
    "version": 3
   },
   "file_extension": ".py",
   "mimetype": "text/x-python",
   "name": "python",
   "nbconvert_exporter": "python",
   "pygments_lexer": "ipython3",
   "version": "3.11.5"
  }
 },
 "nbformat": 4,
 "nbformat_minor": 5
}
